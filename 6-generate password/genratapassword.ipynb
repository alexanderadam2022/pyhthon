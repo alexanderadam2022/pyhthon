{
 "cells": [
  {
   "cell_type": "code",
   "execution_count": 1,
   "metadata": {},
   "outputs": [
    {
     "name": "stdout",
     "output_type": "stream",
     "text": [
      "kls5894\n"
     ]
    }
   ],
   "source": [
    "import random as rnd\n",
    "name = input(\"Please enter your full name (without any space): \")\n",
    "passw = \"\"\n",
    "for i in range(3):\n",
    "  randIndex = rnd.randint(0, len(name)-1)\n",
    "  letter = name[randIndex]\n",
    "  passw += letter.lower()\n",
    "randNum = rnd.randint(1000,9999)\n",
    "passw += str(randNum)\n",
    "print(passw)"
   ]
  }
 ],
 "metadata": {
  "kernelspec": {
   "display_name": "Python 3.10.4 64-bit",
   "language": "python",
   "name": "python3"
  },
  "language_info": {
   "codemirror_mode": {
    "name": "ipython",
    "version": 3
   },
   "file_extension": ".py",
   "mimetype": "text/x-python",
   "name": "python",
   "nbconvert_exporter": "python",
   "pygments_lexer": "ipython3",
   "version": "3.10.4"
  },
  "orig_nbformat": 4,
  "vscode": {
   "interpreter": {
    "hash": "0555f2456b015bb732bf623d1dd100e66273a5baafc8bc606870b4c07dbef253"
   }
  }
 },
 "nbformat": 4,
 "nbformat_minor": 2
}
