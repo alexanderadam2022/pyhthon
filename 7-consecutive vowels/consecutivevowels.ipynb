{
 "cells": [
  {
   "cell_type": "code",
   "execution_count": 2,
   "metadata": {},
   "outputs": [
    {
     "name": "stdout",
     "output_type": "stream",
     "text": [
      "Positive\n"
     ]
    }
   ],
   "source": [
    "word = input(\"Please enter a string: \")\n",
    "word = word.lower()\n",
    "\n",
    "vowels = [\"a\", \"e\", \"i\", \"o\", \"u\"]\n",
    "exist = False\n",
    "\n",
    "for i in range(len(word)-1):\n",
    "  if word[i] in vowels:\n",
    "    if word[i+1] in vowels:\n",
    "      exist = True\n",
    "      break\n",
    "      \n",
    "if exist:\n",
    "  print(\"Positive\")\n",
    "else:\n",
    "  print(\"Negative\")\n"
   ]
  },
  {
   "cell_type": "code",
   "execution_count": 1,
   "metadata": {},
   "outputs": [
    {
     "name": "stdout",
     "output_type": "stream",
     "text": [
      "negatif\n"
     ]
    }
   ],
   "source": [
    "string=input().strip().lower()\n",
    "counter=0\n",
    "for i in range(len(string)-1):\n",
    "    if string[i] in 'aeiou' and string[i+1] in 'aeiou':counter+=1\n",
    "if counter > 0 :\n",
    "    print('Positif')\n",
    "if counter==0:\n",
    "    print('negatif')"
   ]
  }
 ],
 "metadata": {
  "kernelspec": {
   "display_name": "Python 3.10.4 64-bit",
   "language": "python",
   "name": "python3"
  },
  "language_info": {
   "codemirror_mode": {
    "name": "ipython",
    "version": 3
   },
   "file_extension": ".py",
   "mimetype": "text/x-python",
   "name": "python",
   "nbconvert_exporter": "python",
   "pygments_lexer": "ipython3",
   "version": "3.10.4"
  },
  "orig_nbformat": 4,
  "vscode": {
   "interpreter": {
    "hash": "0555f2456b015bb732bf623d1dd100e66273a5baafc8bc606870b4c07dbef253"
   }
  }
 },
 "nbformat": 4,
 "nbformat_minor": 2
}
