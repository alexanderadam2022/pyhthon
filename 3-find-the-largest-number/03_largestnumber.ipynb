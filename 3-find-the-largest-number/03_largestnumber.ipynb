{
 "cells": [
  {
   "cell_type": "code",
   "execution_count": 1,
   "metadata": {},
   "outputs": [
    {
     "name": "stdout",
     "output_type": "stream",
     "text": [
      " 85 is the largest number\n"
     ]
    }
   ],
   "source": [
    "a=int(input(\"Please enter any number: \"))\n",
    "b=int(input(\"Please enter any number: \"))\n",
    "c=int(input(\"Please enter any number: \"))\n",
    "d=int(input(\"Please enter any number: \"))\n",
    "e=int(input(\"Please enter any number: \"))\n",
    "\n",
    "alex=[a,b,c,d,e]\n",
    "adam=max(alex)\n",
    "print(\" {} is the largest number\".format(adam))"
   ]
  },
  {
   "cell_type": "code",
   "execution_count": 2,
   "metadata": {},
   "outputs": [
    {
     "name": "stdout",
     "output_type": "stream",
     "text": [
      "5\n"
     ]
    }
   ],
   "source": [
    "count=0\n",
    "array=[]\n",
    "while count < 5:\n",
    "  number = int(input('Please enter the number: '))\n",
    "  array.append(number)\n",
    "  count = count +1\n",
    "def findLargestNum(x):\n",
    "  largest = x[0]\n",
    "  for i in x:\n",
    "    if i > largest:\n",
    "      largest = i\n",
    "  return largest\n",
    "print(findLargestNum(array))"
   ]
  },
  {
   "cell_type": "code",
   "execution_count": 5,
   "metadata": {},
   "outputs": [
    {
     "name": "stdout",
     "output_type": "stream",
     "text": [
      "Girdiginiz en büyük sayı 6'dir.\n"
     ]
    }
   ],
   "source": [
    "numarator=0\n",
    "dizi=[]\n",
    "while numarator < 5:\n",
    "  sayı= int(input('Lütfen sayı giriniz: '))\n",
    "  dizi.append(sayı)\n",
    "  numarator = numarator +1\n",
    "def enbuyuksayı(x):\n",
    "  enbuyuk = x[0]\n",
    "  for i in x:\n",
    "    if i > enbuyuk:\n",
    "      enbuyuk = i\n",
    "  return f\"Girdiginiz en büyük sayı {i}'dir.\"\n",
    "print(enbuyuksayı(dizi))"
   ]
  },
  {
   "cell_type": "code",
   "execution_count": 3,
   "metadata": {},
   "outputs": [
    {
     "name": "stdout",
     "output_type": "stream",
     "text": [
      "8\n"
     ]
    }
   ],
   "source": [
    "x = int(input(\"please an integer number: \"))\n",
    "y = int(input(\"please an integer number again: \"))\n",
    "z = int(input(\"please an integer number again: \"))\n",
    "t = int(input(\"please an integer number again: \"))\n",
    "w = int(input(\"please an integer number again: \"))\n",
    "my_list = []\n",
    "my_list.append(x)\n",
    "my_list.append(y)\n",
    "my_list.append(z)\n",
    "my_list.append(t)\n",
    "my_list.append(w)\n",
    "my_list.sort()\n",
    "print(my_list[-1])"
   ]
  },
  {
   "cell_type": "code",
   "execution_count": 4,
   "metadata": {},
   "outputs": [
    {
     "name": "stdout",
     "output_type": "stream",
     "text": [
      "The greatest number of given is 9\n"
     ]
    }
   ],
   "source": [
    "numbers = []\n",
    "\n",
    "for i in range(5):\n",
    "    num = input(\"Enter a number so as to find the greatest :\")\n",
    "    numbers.append(num)\n",
    "sort_numbers = sorted(numbers)\n",
    "print(\"The greatest number of given is\", sort_numbers[4])"
   ]
  }
 ],
 "metadata": {
  "kernelspec": {
   "display_name": "Python 3.10.4 64-bit",
   "language": "python",
   "name": "python3"
  },
  "language_info": {
   "codemirror_mode": {
    "name": "ipython",
    "version": 3
   },
   "file_extension": ".py",
   "mimetype": "text/x-python",
   "name": "python",
   "nbconvert_exporter": "python",
   "pygments_lexer": "ipython3",
   "version": "3.10.4"
  },
  "orig_nbformat": 4,
  "vscode": {
   "interpreter": {
    "hash": "0555f2456b015bb732bf623d1dd100e66273a5baafc8bc606870b4c07dbef253"
   }
  }
 },
 "nbformat": 4,
 "nbformat_minor": 2
}
