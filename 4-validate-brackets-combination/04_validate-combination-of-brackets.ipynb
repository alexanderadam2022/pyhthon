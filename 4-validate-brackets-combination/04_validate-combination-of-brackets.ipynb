{
 "cells": [
  {
   "cell_type": "code",
   "execution_count": 6,
   "metadata": {},
   "outputs": [
    {
     "name": "stdout",
     "output_type": "stream",
     "text": [
      "False\n"
     ]
    }
   ],
   "source": [
    "def isValid(s):\n",
    "  bracket_map = {\"(\": \")\", \"[\": \"]\",  \"{\": \"}\"}\n",
    "  open_par = set([\"(\", \"[\", \"{\"])\n",
    "  stack = []\n",
    "  for i in s:\n",
    "    if i in open_par:\n",
    "        stack.append(i)\n",
    "    elif stack and i == bracket_map[stack[-1]]:\n",
    "        stack.pop()\n",
    "    else:\n",
    "        return False\n",
    "  return stack == []\n",
    "\n",
    "combination = input('Write a string that contains only `(`, `)`, `{`, `}`, `[` and `]`: ')\n",
    "print(isValid(combination))"
   ]
  }
 ],
 "metadata": {
  "kernelspec": {
   "display_name": "Python 3.10.4 64-bit",
   "language": "python",
   "name": "python3"
  },
  "language_info": {
   "codemirror_mode": {
    "name": "ipython",
    "version": 3
   },
   "file_extension": ".py",
   "mimetype": "text/x-python",
   "name": "python",
   "nbconvert_exporter": "python",
   "pygments_lexer": "ipython3",
   "version": "3.10.4"
  },
  "orig_nbformat": 4,
  "vscode": {
   "interpreter": {
    "hash": "0555f2456b015bb732bf623d1dd100e66273a5baafc8bc606870b4c07dbef253"
   }
  }
 },
 "nbformat": 4,
 "nbformat_minor": 2
}
