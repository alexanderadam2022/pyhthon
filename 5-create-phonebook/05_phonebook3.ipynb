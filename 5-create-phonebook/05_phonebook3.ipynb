{
 "cells": [
  {
   "cell_type": "code",
   "execution_count": null,
   "metadata": {},
   "outputs": [],
   "source": [
    "def print_menu():\n",
    "    print('1. Find phone number')\n",
    "    print('2. Insert a phone number')\n",
    "    print('3. Delete a person from the phonebook')\n",
    "    print('4. Quit')\n",
    "\n",
    "numbers = {}\n",
    "menu_choice = 0\n",
    "print_menu()\n",
    "while menu_choice != 4:\n",
    "    menu_choice = int(input(\"Type in a number (1-4): \"))\n",
    "    if menu_choice == 1:\n",
    "        x = input(\"The name whose phonenumber you want to learn:\")\n",
    "        for x in numbers.keys():\n",
    "            print(\"Name: \", x, \"\\tNumber:\", numbers[x])\n",
    "        if x not in numbers.keys():\n",
    "            print(\"Phone of\", x, \"couldn't find.\")\n",
    "    elif menu_choice == 2:\n",
    "        print(\"Add Name and Number\")\n",
    "        name = input(\"Name: \")\n",
    "        phone = input(\"Number: \")\n",
    "        numbers[name] = phone\n",
    "    elif menu_choice == 3:\n",
    "        print(\"Remove Name and Number\")\n",
    "        name = input(\"Name: \")\n",
    "        if name in numbers:\n",
    "            del numbers[name]\n",
    "            print(name, \"was removed succesfully.\")\n",
    "        else:\n",
    "            print(name, \"was not found\")\n",
    "        \n",
    "    elif menu_choice != 4:\n",
    "        print_menu()\n",
    "print(\"Thanks to use phonebook app.\")"
   ]
  }
 ],
 "metadata": {
  "language_info": {
   "name": "python"
  },
  "orig_nbformat": 4
 },
 "nbformat": 4,
 "nbformat_minor": 2
}
