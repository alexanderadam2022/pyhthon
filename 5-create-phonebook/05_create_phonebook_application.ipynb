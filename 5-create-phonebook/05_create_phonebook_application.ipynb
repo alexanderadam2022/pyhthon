{
 "cells": [
  {
   "cell_type": "code",
   "execution_count": 2,
   "metadata": {},
   "outputs": [
    {
     "name": "stdout",
     "output_type": "stream",
     "text": [
      "Welcome to the phonebook application\n",
      "1. Find phone number\n",
      "2. Insert a phone number\n",
      "3. Delete a person from the phonebook\n",
      "4. Terminate\n",
      "Phone number of 22 is inserted into the phonebook\n",
      " \n",
      "1. Find phone number\n",
      "2. Insert a phone number\n",
      "3. Delete a person from the phonebook\n",
      "4. Terminate\n",
      "Exiting Phonebook\n"
     ]
    }
   ],
   "source": [
    "phonebook = {}\n",
    "\n",
    "def find(keyword):\n",
    "    return phonebook.get(keyword, f\"Couldn't find phone number of {keyword}\")\n",
    "\n",
    "def add(name, phone_number):\n",
    "    phonebook[name] = phone_number\n",
    "    return f'Phone number of {name} is inserted into the phonebook'\n",
    "\n",
    "def delete(name):\n",
    "    try:\n",
    "        phonebook.pop(name)\n",
    "    except KeyError as err:\n",
    "        return f'{err} is not in the phonebook'\n",
    "    else:\n",
    "        return f'{name} is deleted from the phonebook'\n",
    "\n",
    "if __name__ == '__main__':\n",
    "    print('Welcome to the phonebook application')\n",
    "    print('1. Find phone number')\n",
    "    print('2. Insert a phone number')\n",
    "    print('3. Delete a person from the phonebook')\n",
    "    print('4. Terminate')\n",
    "    no = input('Select operation on Phonebook App (1/2/3) : ')\n",
    "    while True:\n",
    "        if no == '1':\n",
    "            name = input('Find the phone number of : ')\n",
    "            print(find(name))\n",
    "            print(\" \")\n",
    "        elif no == '2':\n",
    "            name = input('Insert name of the person : ')\n",
    "            try:\n",
    "                number = int(input('Insert phone number of the person: '))\n",
    "            except ValueError as err:\n",
    "                print('Invalid input format, cancelling operation ...')\n",
    "            else:\n",
    "                print(add(name, number))\n",
    "            print(\" \")\n",
    "        elif no == '3':\n",
    "            name = input('Whom to delete from phonebook : ')\n",
    "            print(delete(name))\n",
    "            print(\" \")\n",
    "        elif no == '4':\n",
    "            print('Exiting Phonebook')\n",
    "            break\n",
    "        else:\n",
    "            print('Wrong operation')\n",
    "\n",
    "        print('1. Find phone number')\n",
    "        print('2. Insert a phone number')\n",
    "        print('3. Delete a person from the phonebook')\n",
    "        print('4. Terminate')\n",
    "        no = input('Select operation on Phonebook App (1/2/3) : ')"
   ]
  }
 ],
 "metadata": {
  "kernelspec": {
   "display_name": "Python 3.10.4 64-bit",
   "language": "python",
   "name": "python3"
  },
  "language_info": {
   "codemirror_mode": {
    "name": "ipython",
    "version": 3
   },
   "file_extension": ".py",
   "mimetype": "text/x-python",
   "name": "python",
   "nbconvert_exporter": "python",
   "pygments_lexer": "ipython3",
   "version": "3.10.4"
  },
  "orig_nbformat": 4,
  "vscode": {
   "interpreter": {
    "hash": "0555f2456b015bb732bf623d1dd100e66273a5baafc8bc606870b4c07dbef253"
   }
  }
 },
 "nbformat": 4,
 "nbformat_minor": 2
}
