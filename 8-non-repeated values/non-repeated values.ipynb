{
 "cells": [
  {
   "cell_type": "code",
   "execution_count": 1,
   "metadata": {},
   "outputs": [
    {
     "name": "stdout",
     "output_type": "stream",
     "text": [
      "To Kill a Mockingbird\n",
      "In Cold Blood\n",
      "Wide Sargasso Sea\n",
      "I Capture The Castle\n"
     ]
    }
   ],
   "source": [
    "products = [\"Pride and Prejudice\", \"To Kill a Mockingbird\", \"The Great Gatsby\", \"One Hundred Years of Solitude\", \\\n",
    "            \"Pride and Prejudice\", \"In Cold Blood\", \"Wide Sargasso Sea\", \\\n",
    "            \"One Hundred Years of Solitude\", \"Brave New World\",  \"The Great Gatsby\", \"Brave New World\", \\\n",
    "            \"I Capture The Castle\", \"Brave New World\", \"The Great Gatsby\", \"The Great Gatsby\", \\\n",
    "            \"One Hundred Years of Solitude\", \"Pride and Prejudice\"]\n",
    "\n",
    "for product_1 in products:\n",
    "  count = 0\n",
    "  for product_2 in products:\n",
    "    if product_1 == product_2:\n",
    "      count += 1\n",
    "      if count > 1:\n",
    "        break\n",
    "  if count == 1:\n",
    "    print(product_1)\n"
   ]
  },
  {
   "cell_type": "code",
   "execution_count": 13,
   "metadata": {},
   "outputs": [
    {
     "name": "stdout",
     "output_type": "stream",
     "text": [
      "To Kill a Mockingbird\n",
      "In Cold Blood\n",
      "Wide Sargasso Sea\n",
      "I Capture The Castle\n"
     ]
    }
   ],
   "source": [
    "products = [\"Pride and Prejudice\", \"To Kill a Mockingbird\", \"The Great Gatsby\", \"One Hundred Years of Solitude\", \\\n",
    "            \"Pride and Prejudice\", \"In Cold Blood\", \"Wide Sargasso Sea\", \\\n",
    "            \"One Hundred Years of Solitude\", \"Brave New World\",  \"The Great Gatsby\", \"Brave New World\", \\\n",
    "            \"I Capture The Castle\", \"Brave New World\", \"The Great Gatsby\", \"The Great Gatsby\", \\\n",
    "            \"One Hundred Years of Solitude\", \"Pride and Prejudice\"]\n",
    "\n",
    "for i in products:\n",
    "    if products.count(i)==1:\n",
    "        print(i)"
   ]
  }
 ],
 "metadata": {
  "kernelspec": {
   "display_name": "Python 3.10.4 64-bit",
   "language": "python",
   "name": "python3"
  },
  "language_info": {
   "codemirror_mode": {
    "name": "ipython",
    "version": 3
   },
   "file_extension": ".py",
   "mimetype": "text/x-python",
   "name": "python",
   "nbconvert_exporter": "python",
   "pygments_lexer": "ipython3",
   "version": "3.10.4"
  },
  "orig_nbformat": 4,
  "vscode": {
   "interpreter": {
    "hash": "0555f2456b015bb732bf623d1dd100e66273a5baafc8bc606870b4c07dbef253"
   }
  }
 },
 "nbformat": 4,
 "nbformat_minor": 2
}
